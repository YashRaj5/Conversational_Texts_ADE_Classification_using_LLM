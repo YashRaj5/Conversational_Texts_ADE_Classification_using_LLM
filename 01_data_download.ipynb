{
 "cells": [
  {
   "cell_type": "markdown",
   "metadata": {},
   "source": [
    "# Detecting Adverse Drug Events From Conversational Texts\n",
    "Adverse Drug Events (ADEs) are potentially very dangerous to patients and are top causes of morbidity and mortality. Many ADEs are hard to discover as they happen to certain groups of people in certain conditions and they may take a long time to expose. Healthcare providers conduct clinical trials to discover ADEs before selling the products but normally are limited in numbers. Thus, post-market drug safety monitoring is required to help discover ADEs after the drugs are sold on the market.\n",
    "\n",
    "Less than 5% of ADEs are reported via official channels and the vast majority is described in free-text channels: emails & phone calls to patient support centers, social media posts, sales conversations between clinicians and pharma sales reps, online patient forums, and so on. This requires pharmaceuticals and drug safety groups to monitor and analyze unstructured medical text from a variety of jargons, formats, channels, and languages - with needs for timeliness and scale that require automation.\n",
    "\n",
    "#### Use cases:\n",
    "\n",
    "* Conversational Texts ADE Classification\n",
    "* Detecting ADE and Drug Entities From Texts\n",
    "* Analysis of Drug and ADE Entities\n",
    "* Finding Drugs and ADEs Have Been Talked Most\n",
    "* Detecting Most Common Drug-ADE Pairs\n",
    "* Checking Assertion Status of ADEs\n",
    "* Relations Between ADEs and Drugs"
   ]
  },
  {
   "cell_type": "code",
   "execution_count": 1,
   "metadata": {},
   "outputs": [],
   "source": [
    "# initial config\n",
    "%run \"./00_setup.ipynb\""
   ]
  },
  {
   "cell_type": "markdown",
   "metadata": {},
   "source": [
    "### Import Libraries"
   ]
  },
  {
   "cell_type": "code",
   "execution_count": 8,
   "metadata": {},
   "outputs": [],
   "source": [
    "# initializing Spark\n",
    "import pyspark\n",
    "from pyspark.sql import SparkSession\n",
    "from pyspark.sql import functions as F\n",
    "from pyspark.sql.types import *\n",
    "\n",
    "from delta import *"
   ]
  },
  {
   "cell_type": "markdown",
   "metadata": {},
   "source": [
    "### Starting PySpark Session"
   ]
  },
  {
   "cell_type": "code",
   "execution_count": 2,
   "metadata": {},
   "outputs": [],
   "source": [
    "# os.environ[\"HADOOP_HOME\"] = \"C:\\\\Users\\\\yraj\\\\Work\\\\Spark\\\\spark-3.2.4-bin-hadoop2.7\""
   ]
  },
  {
   "cell_type": "code",
   "execution_count": 6,
   "metadata": {},
   "outputs": [],
   "source": [
    "import findspark\n",
    "findspark.init()"
   ]
  },
  {
   "cell_type": "code",
   "execution_count": 9,
   "metadata": {},
   "outputs": [
    {
     "data": {
      "text/plain": [
       "'C:\\\\Users\\\\yraj\\\\Work\\\\Spark\\\\spark-3.2.4-bin-hadoop2.7'"
      ]
     },
     "execution_count": 9,
     "metadata": {},
     "output_type": "execute_result"
    }
   ],
   "source": [
    "findspark.find()"
   ]
  },
  {
   "cell_type": "code",
   "execution_count": 11,
   "metadata": {},
   "outputs": [],
   "source": [
    "spark = SparkSession.builder.getOrCreate()"
   ]
  },
  {
   "cell_type": "code",
   "execution_count": 12,
   "metadata": {},
   "outputs": [
    {
     "data": {
      "text/html": [
       "\n",
       "            <div>\n",
       "                <p><b>SparkSession - in-memory</b></p>\n",
       "                \n",
       "        <div>\n",
       "            <p><b>SparkContext</b></p>\n",
       "\n",
       "            <p><a href=\"http://INGNONB65617.insight.com:4040\">Spark UI</a></p>\n",
       "\n",
       "            <dl>\n",
       "              <dt>Version</dt>\n",
       "                <dd><code>v3.2.4</code></dd>\n",
       "              <dt>Master</dt>\n",
       "                <dd><code>local[*]</code></dd>\n",
       "              <dt>AppName</dt>\n",
       "                <dd><code>pyspark-shell</code></dd>\n",
       "            </dl>\n",
       "        </div>\n",
       "        \n",
       "            </div>\n",
       "        "
      ],
      "text/plain": [
       "<pyspark.sql.session.SparkSession at 0x2078f6d27a0>"
      ]
     },
     "execution_count": 12,
     "metadata": {},
     "output_type": "execute_result"
    }
   ],
   "source": [
    "spark"
   ]
  },
  {
   "cell_type": "markdown",
   "metadata": {},
   "source": [
    "We have created a script containing a class which consists of methods for creating paths and downloading data"
   ]
  },
  {
   "cell_type": "code",
   "execution_count": 14,
   "metadata": {},
   "outputs": [
    {
     "name": "stdout",
     "output_type": "stream",
     "text": [
      "C:\\Users\\yraj\\Work\\POCs\\Drugs & Adverse Events\\data is already present\n",
      "C:\\Users\\yraj\\Work\\POCs\\Drugs & Adverse Events\\delta is already present\n"
     ]
    },
    {
     "name": "stderr",
     "output_type": "stream",
     "text": [
      "2023/07/04 10:40:07 INFO mlflow.tracking.fluent: Experiment with name 'C:\\Users\\yraj\\Work\\POCs\\Drugs & Adverse Events\\ade-llm' does not exist. Creating a new experiment.\n"
     ]
    }
   ],
   "source": [
    "util = Util('Drugs & Adverse Events')"
   ]
  },
  {
   "cell_type": "code",
   "execution_count": 15,
   "metadata": {},
   "outputs": [
    {
     "name": "stdout",
     "output_type": "stream",
     "text": [
      "root folder           : C:\\Users\\yraj\\Work\\POCs\\Drugs & Adverse Events\n",
      "raw data location     : C:\\Users\\yraj\\Work\\POCs\\Drugs & Adverse Events\\data\n",
      "delta sables location : C:\\Users\\yraj\\Work\\POCs\\Drugs & Adverse Events\\delta\n"
     ]
    }
   ],
   "source": [
    "util.print_paths()"
   ]
  },
  {
   "cell_type": "code",
   "execution_count": 16,
   "metadata": {},
   "outputs": [
    {
     "name": "stdout",
     "output_type": "stream",
     "text": [
      "****************************************************************************************************\n",
      "data available in C:\\Users\\yraj\\Work\\POCs\\Drugs & Adverse Events\\data are:\n",
      "****************************************************************************************************\n",
      "ADE-NEG.txt\n",
      "DRUG-AE.rel\n"
     ]
    }
   ],
   "source": [
    "util.display_data()"
   ]
  },
  {
   "cell_type": "markdown",
   "metadata": {},
   "source": [
    "Storing Configuration File as '.json'"
   ]
  },
  {
   "cell_type": "code",
   "execution_count": 17,
   "metadata": {},
   "outputs": [],
   "source": [
    "if 'config' not in locals():\n",
    "  config = {}"
   ]
  },
  {
   "cell_type": "code",
   "execution_count": 29,
   "metadata": {},
   "outputs": [],
   "source": [
    "config['base_path'] = 'C:\\\\Users\\\\yraj\\\\Work\\\\POCs\\\\Drugs & Adverse Events'\n",
    "config['data_path'] = 'C:\\\\Users\\\\yraj\\\\Work\\\\POCs\\\\Drugs & Adverse Events\\\\data'\n",
    "config['delta_path'] = 'C:\\\\Users\\\\yraj\\\\Work\\\\POCs\\\\Drugs & Adverse Events\\\\delta'\n",
    "config['vector_store_path'] = 'C:\\\\Users\\\\yraj\\\\Work\\\\POCs\\\\Drugs & Adverse Events\\\\data\\\\vector_store'\n",
    "config['registered_model_name'] = 'ade-llm'\n",
    "config['embedding_model_name'] = 'all-MiniLM-L12-v2'\n",
    "config['openai_chat_model'] = 'gpt-3.5-turbo'\n",
    "config['system_message_template'] = \"\"\"You are a helpful assistant built by Yash, you are good at helping classification of drug and it's affect based on the context provided, the context is a document. If the context does not provide enough relevant information to determine the answer, just say I don't know. If the context is irrelevant to the question, just say I don't know. If you did not find a good answer from the context, just say I don't know. If the query doesn't form a complete question, just say I don't know. If there is a good answer from the context, try to summarize the context to answer the question.\"\"\"\n",
    "config['human_message_template'] = \"\"\"Given the context: {context}. Classify the drug and it's affect {statement}.\"\"\""
   ]
  },
  {
   "cell_type": "code",
   "execution_count": 32,
   "metadata": {},
   "outputs": [],
   "source": [
    "import json\n",
    "with open('./include/config.json', 'w') as file:\n",
    "    json.dump(config, file)"
   ]
  },
  {
   "cell_type": "code",
   "execution_count": 33,
   "metadata": {},
   "outputs": [],
   "source": [
    "with open('./include/config.json') as file:\n",
    "    config = json.load(file)"
   ]
  },
  {
   "cell_type": "code",
   "execution_count": 34,
   "metadata": {},
   "outputs": [
    {
     "data": {
      "text/plain": [
       "{'base_path': 'C:\\\\Users\\\\yraj\\\\Work\\\\POCs\\\\Drugs & Adverse Events',\n",
       " 'data_path': 'C:\\\\Users\\\\yraj\\\\Work\\\\POCs\\\\Drugs & Adverse Events\\\\data',\n",
       " 'delta_path': 'C:\\\\Users\\\\yraj\\\\Work\\\\POCs\\\\Drugs & Adverse Events\\\\delta',\n",
       " 'vector_store_path': 'C:\\\\Users\\\\yraj\\\\Work\\\\POCs\\\\Drugs & Adverse Events\\\\data\\\\vector_store',\n",
       " 'registered_model_name': 'ade-llm',\n",
       " 'embedding_model_name': 'all-MiniLM-L12-v2',\n",
       " 'openai_chat_model': 'gpt-3.5-turbo',\n",
       " 'system_message_template': \"You are a helpful assistant built by Yash, you are good at helping classification of drug and it's affect based on the context provided, the context is a document. If the context does not provide enough relevant information to determine the answer, just say I don't know. If the context is irrelevant to the question, just say I don't know. If you did not find a good answer from the context, just say I don't know. If the query doesn't form a complete question, just say I don't know. If there is a good answer from the context, try to summarize the context to answer the question.\",\n",
       " 'human_message_template': \"Given the context: {context}. Classify the drug and it's affect {statement}.\"}"
      ]
     },
     "execution_count": 34,
     "metadata": {},
     "output_type": "execute_result"
    }
   ],
   "source": [
    "config"
   ]
  },
  {
   "cell_type": "markdown",
   "metadata": {},
   "source": [
    "## Downloading Dataset\n",
    "We will use a slightly modified version of some conversational ADE texts which are downloaded from https://sites.google.com/site/adecorpus/home/document. See\n",
    ">[Development of a benchmark corpus to support the automatic extraction of drug-related adverse effects from medical case reports](https://www.sciencedirect.com/science/article/pii/S1532046412000615)\n",
    "for more information about this dataset.\n",
    "\n",
    "**We will work with two main files in the dataset:**\n",
    "\n",
    "- DRUG-AE.rel : Conversations with ADE.\n",
    "- ADE-NEG.txt : Conversations with no ADE.\n",
    "\n",
    "Lets get started with downloading these files."
   ]
  },
  {
   "cell_type": "code",
   "execution_count": 35,
   "metadata": {},
   "outputs": [
    {
     "name": "stdout",
     "output_type": "stream",
     "text": [
      "****************************************************************************************************\n",
      "downloading file DRUG-AE.rel to C:\\Users\\yraj\\Work\\POCs\\Drugs & Adverse Events\\data\n",
      "****************************************************************************************************\n",
      "****************************************************************************************************\n",
      "downloading file ADE-NEG.txt to C:\\Users\\yraj\\Work\\POCs\\Drugs & Adverse Events\\data\n",
      "****************************************************************************************************\n"
     ]
    }
   ],
   "source": [
    "for file in ['DRUG-AE.rel', 'ADE-NEG.txt']:\n",
    "    try:\n",
    "        os.listdir(f'{util.data_path}\\\\{file}')\n",
    "        print(f'{file} is already downloaded')\n",
    "    except:\n",
    "        util.load_remote_data(f'https://raw.githubusercontent.com/JohnSnowLabs/spark-nlp-workshop/master/tutorials/Certification_Trainings/Healthcare/data/ADE_Corpus_V2/{file}')"
   ]
  },
  {
   "cell_type": "code",
   "execution_count": 36,
   "metadata": {},
   "outputs": [
    {
     "name": "stdout",
     "output_type": "stream",
     "text": [
      "****************************************************************************************************\n",
      "data available in C:\\Users\\yraj\\Work\\POCs\\Drugs & Adverse Events\\data are:\n",
      "****************************************************************************************************\n",
      "ADE-NEG.txt\n",
      "DRUG-AE.rel\n"
     ]
    }
   ],
   "source": [
    "# display the files downloaded\n",
    "util.display_data()"
   ]
  },
  {
   "cell_type": "markdown",
   "metadata": {},
   "source": [
    "### dataframe for negative ADE texts"
   ]
  },
  {
   "cell_type": "code",
   "execution_count": 16,
   "metadata": {},
   "outputs": [],
   "source": [
    "neg_df = (\n",
    "  spark.read.text(f\"{util.data_path}\\\\ADE-NEG.txt\")\n",
    "  .selectExpr(\"split(value,'NEG')[1] as text\",\"1!=1 as is_ADE\")\n",
    "  .drop_duplicates()\n",
    ")"
   ]
  },
  {
   "cell_type": "code",
   "execution_count": 17,
   "metadata": {},
   "outputs": [
    {
     "data": {
      "text/plain": [
       "[Row(text=' The patient was extubated 1 week later.', is_ADE=False),\n",
       " Row(text=' No abnormalities were identified on review of collection and processing records.', is_ADE=False),\n",
       " Row(text=' Hereditary angio-oedema is rare and potentially life-threatening, being characterised by recurrent episodes of perioral or laryngeal oedema.', is_ADE=False),\n",
       " Row(text=' Intrathecal chemotherapy with methotrexate or cytosine arabinoside is the standard approach to prophylaxis and treatment of central nervous system leukemia in children.', is_ADE=False),\n",
       " Row(text=\" Infliximab, a chimeric monoclonal antibody targeting tumor necrosis factor alpha (TNF-alpha), is efficacious in the treatment of rheumatoid arthritis and Crohn's disease.\", is_ADE=False),\n",
       " Row(text=' Neutropenic colitis has been thought to be a serious gastrointestinal complication associated with chemotherapy for hematological malignancy.', is_ADE=False),\n",
       " Row(text=' These reports suggest the possibility that the risk of developing hyperglycemia and diabetic coma with this combination may be greater than when taking diuretics alone.', is_ADE=False),\n",
       " Row(text=' A 57-year-old man with nodular rheumatoid arthritis was started on a combination of etanercept and methotrexate.', is_ADE=False),\n",
       " Row(text=' Daily measurements of pulse, blood pressure, temperature and various laboratory examinations were carried out.', is_ADE=False),\n",
       " Row(text=' The possibility that the underlying disease or other chemotherapeutic agents may increase the risk of pulmonary toxicity can, however, be discussed.', is_ADE=False),\n",
       " Row(text=' The range of diagnostic possibilities is wide, noninvasive diagnostic procedures have little utility, and the drugs available for empirical therapy have toxic effects that are sometimes severe.', is_ADE=False),\n",
       " Row(text=' Drug-induced gingival enlargement: biofilm control and surgical therapy with gallium-aluminum-arsenide (GaAlAs) diode laser-A 2-year follow-up.', is_ADE=False),\n",
       " Row(text=' NE occurred 7-10 days after the completion of chemotherapy, during the neutropenic phase.', is_ADE=False),\n",
       " Row(text=' Her serum electrolytes were sodium 122 mEq/L, potassium 5.9 mEq/L, chloride 93 mEq/L, and carbon dioxide 19 mEq/L.', is_ADE=False),\n",
       " Row(text=' Treatment with volume expansion, hypertonic sodium bicarbonate, inotropic support with norepinephrine and insertion of an intra-aortic balloon pump led to complete recovery after 72 hours.', is_ADE=False),\n",
       " Row(text=' Alternative medicine is becoming increasingly popular, especially with terminally ill patients.', is_ADE=False),\n",
       " Row(text=' A delay in standard emergency room management led to a delay in diagnosis and treatment.', is_ADE=False),\n",
       " Row(text=' Improvement in the level of arterial blood gases and pulmonary diffusing capacity occurred after discontinuation of methotrexate therapy.', is_ADE=False),\n",
       " Row(text=' METHODS: This is a retrospective, open-label study of 24 patients; 18 of whom were not responding to accepted medication for treatment of their TS and six of whom were receiving no medication.', is_ADE=False),\n",
       " Row(text=' Liposomal amphotericin B in drug-resistant visceral leishmaniasis.', is_ADE=False)]"
      ]
     },
     "execution_count": 17,
     "metadata": {},
     "output_type": "execute_result"
    }
   ],
   "source": [
    "# display(neg_df.limit(20))\n",
    "(neg_df.limit(20).collect())"
   ]
  },
  {
   "cell_type": "markdown",
   "metadata": {},
   "source": [
    "### dataframe for positive ADE texts"
   ]
  },
  {
   "cell_type": "code",
   "execution_count": 18,
   "metadata": {},
   "outputs": [],
   "source": [
    "pos_df = (\n",
    "  spark.read.csv(f\"{util.data_path}\\\\DRUG-AE.rel\", sep=\"|\", header=None)\n",
    "  .selectExpr(\"_c1 as text\", \"1==1 as is_ADE\")\n",
    "  .drop_duplicates()\n",
    ")"
   ]
  },
  {
   "cell_type": "code",
   "execution_count": 19,
   "metadata": {},
   "outputs": [
    {
     "name": "stdout",
     "output_type": "stream",
     "text": [
      "+--------------------+------+\n",
      "|                text|is_ADE|\n",
      "+--------------------+------+\n",
      "|Vancomycin is the...|  true|\n",
      "|Successful desens...|  true|\n",
      "|The case concerns...|  true|\n",
      "|Four days after i...|  true|\n",
      "|Nineteen cases of...|  true|\n",
      "|Ten days after it...|  true|\n",
      "|Two cases of siro...|  true|\n",
      "|DISCUSSION: Ampho...|  true|\n",
      "|Acute coronary ev...|  true|\n",
      "|Patients from end...|  true|\n",
      "+--------------------+------+\n",
      "\n"
     ]
    }
   ],
   "source": [
    "pos_df.limit(10).show()"
   ]
  },
  {
   "cell_type": "markdown",
   "metadata": {},
   "source": [
    "### dataframe for all conversational texts with labels"
   ]
  },
  {
   "cell_type": "code",
   "execution_count": 20,
   "metadata": {},
   "outputs": [],
   "source": [
    "raw_data_df=neg_df.union(pos_df).selectExpr('uuid() as id','*').orderBy('id')"
   ]
  },
  {
   "cell_type": "code",
   "execution_count": 21,
   "metadata": {},
   "outputs": [
    {
     "name": "stdout",
     "output_type": "stream",
     "text": [
      "+--------------------+--------------------+------+\n",
      "|                  id|                text|is_ADE|\n",
      "+--------------------+--------------------+------+\n",
      "|00039966-6c72-40a...| Emergent operati...| false|\n",
      "|0007fb36-1578-48b...| A patient is des...| false|\n",
      "|0008e34c-b4bf-499...| BACKGROUND: The ...| false|\n",
      "|0009ee0b-0306-4a3...| Although isoprot...| false|\n",
      "|000f5c29-1b5f-41b...| Although it is u...| false|\n",
      "|000fb368-c91a-462...| In each case, th...| false|\n",
      "|0011d2f8-5638-44c...| Awareness of thi...| false|\n",
      "|00191977-7f4b-468...| CONCLUSION: It i...| false|\n",
      "|001de9a2-64ef-476...| Two probands had...| false|\n",
      "|0026faff-1311-4b2...| Phenytoin and ca...| false|\n",
      "|00275fcb-e619-456...| The patient requ...| false|\n",
      "|00282700-21f8-47b...|Ulcerating enteri...|  true|\n",
      "|002b86dc-f796-4af...| Generalized argy...| false|\n",
      "|002e2af0-3041-486...| To our knowledge...| false|\n",
      "|002f26d1-8b5e-499...| Historically, co...| false|\n",
      "|00300159-f099-456...| Treatment was in...| false|\n",
      "|00337c69-c481-47b...| The evidence sug...| false|\n",
      "|00390f1f-da57-438...| DESIGN: Retrospe...| false|\n",
      "|003a2cca-1adb-465...| Prospective, con...| false|\n",
      "|003c44f3-5245-4f6...| DISCUSSION: Alth...| false|\n",
      "+--------------------+--------------------+------+\n",
      "only showing top 20 rows\n",
      "\n"
     ]
    }
   ],
   "source": [
    "raw_data_df.show()"
   ]
  },
  {
   "cell_type": "code",
   "execution_count": 30,
   "metadata": {},
   "outputs": [
    {
     "data": {
      "text/plain": [
       "20896"
      ]
     },
     "execution_count": 30,
     "metadata": {},
     "output_type": "execute_result"
    }
   ],
   "source": [
    "raw_data_df.count()"
   ]
  },
  {
   "cell_type": "markdown",
   "metadata": {},
   "source": [
    "## write ade_events to Delta\n",
    "We will combine the two dataframe and store the dat ain bronze delta layer"
   ]
  },
  {
   "cell_type": "code",
   "execution_count": 22,
   "metadata": {},
   "outputs": [],
   "source": [
    "raw_data_df.repartition(12).write.format('delta').mode('overwrite').save(f'{util.delta_path}/bronze/ade_events')"
   ]
  },
  {
   "cell_type": "markdown",
   "metadata": {},
   "source": [
    "### reading the data"
   ]
  },
  {
   "cell_type": "code",
   "execution_count": 24,
   "metadata": {},
   "outputs": [],
   "source": [
    "df=spark.read.load(f'{util.delta_path}/bronze/ade_events').orderBy(F.rand(seed=42)).repartition(64).cache()"
   ]
  },
  {
   "cell_type": "code",
   "execution_count": 29,
   "metadata": {},
   "outputs": [
    {
     "name": "stdout",
     "output_type": "stream",
     "text": [
      "+--------------------+--------------------+------+\n",
      "|                  id|                text|is_ADE|\n",
      "+--------------------+--------------------+------+\n",
      "|9e30ac5d-8f3d-456...| Its duration of ...| false|\n",
      "|e1b28265-fd24-4d7...| An angiogram sho...| false|\n",
      "|2bed409e-2f8f-488...| We report a 14-y...| false|\n",
      "|cde4ccbb-53c7-43c...| The objective of...| false|\n",
      "|75d85cf6-c386-48d...| Perforated appen...| false|\n",
      "|0f52fbd0-564d-476...| CONCLUSIONS: Thi...| false|\n",
      "|d8b04629-3ddb-439...| Treatment was st...| false|\n",
      "|3ef074bf-bfe3-4ca...| At 26 weeks' ges...| false|\n",
      "|188654af-33e5-4b7...| The mother had u...| false|\n",
      "|52188914-747c-4b3...| Detailed immunol...| false|\n",
      "|e1a43c5e-58f9-4b1...| Early detection ...| false|\n",
      "|6784d899-bb4d-421...| To the best of o...| false|\n",
      "|57a5d6e8-1182-45d...| PURPOSE: We repo...| false|\n",
      "|949ed5b8-1df2-493...| Neuroimaging sho...| false|\n",
      "|5583f0c7-0cad-45a...| The liver other ...| false|\n",
      "|6d7d0461-0382-407...|Neuroleptic malig...|  true|\n",
      "|f25a72b3-176a-425...| This patient may...| false|\n",
      "|22499de5-64b2-414...|The authors descr...|  true|\n",
      "|1b443131-430c-44d...| Overall gains an...| false|\n",
      "|1c68d82c-25b7-46f...| Fever and neutro...| false|\n",
      "+--------------------+--------------------+------+\n",
      "\n"
     ]
    }
   ],
   "source": [
    "(df.limit(20).show())"
   ]
  },
  {
   "cell_type": "code",
   "execution_count": 31,
   "metadata": {},
   "outputs": [
    {
     "data": {
      "text/plain": [
       "20896"
      ]
     },
     "execution_count": 31,
     "metadata": {},
     "output_type": "execute_result"
    }
   ],
   "source": [
    "df.count()"
   ]
  },
  {
   "cell_type": "code",
   "execution_count": 37,
   "metadata": {},
   "outputs": [],
   "source": [
    "spark.stop()"
   ]
  }
 ],
 "metadata": {
  "kernelspec": {
   "display_name": "Python 3 (ipykernel)",
   "language": "python",
   "name": "python3"
  },
  "language_info": {
   "codemirror_mode": {
    "name": "ipython",
    "version": 3
   },
   "file_extension": ".py",
   "mimetype": "text/x-python",
   "name": "python",
   "nbconvert_exporter": "python",
   "pygments_lexer": "ipython3",
   "version": "3.10.11"
  }
 },
 "nbformat": 4,
 "nbformat_minor": 2
}
